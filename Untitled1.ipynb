{
  "nbformat": 4,
  "nbformat_minor": 0,
  "metadata": {
    "colab": {
      "provenance": [],
      "authorship_tag": "ABX9TyOwTeDYkfLtqCa/zRbAl2D3",
      "include_colab_link": true
    },
    "kernelspec": {
      "name": "python3",
      "display_name": "Python 3"
    },
    "language_info": {
      "name": "python"
    }
  },
  "cells": [
    {
      "cell_type": "markdown",
      "metadata": {
        "id": "view-in-github",
        "colab_type": "text"
      },
      "source": [
        "<a href=\"https://colab.research.google.com/github/Jatinsharma06/Jatinsharma06/blob/main/Untitled1.ipynb\" target=\"_parent\"><img src=\"https://colab.research.google.com/assets/colab-badge.svg\" alt=\"Open In Colab\"/></a>"
      ]
    },
    {
      "cell_type": "code",
      "execution_count": 1,
      "metadata": {
        "colab": {
          "base_uri": "https://localhost:8080/"
        },
        "id": "2mWnjPlhVpT1",
        "outputId": "71b184ff-5abd-497f-f0bf-88f43ec66142"
      },
      "outputs": [
        {
          "name": "stdout",
          "output_type": "stream",
          "text": [
            "\n",
            "Student Database Menu:\n",
            "1. Add Student\n",
            "2. Remove Student\n",
            "3. Search Student\n",
            "4. Display All Students\n",
            "5. Exit\n",
            "Enter your choice: 1\n",
            "Enter student ID: it001\n",
            "Enter student name: jatin\n",
            "Enter student grade: A\n",
            "\n",
            "Student Database Menu:\n",
            "1. Add Student\n",
            "2. Remove Student\n",
            "3. Search Student\n",
            "4. Display All Students\n",
            "5. Exit\n",
            "Enter your choice: 2\n",
            "Enter student ID to remove: it001\n",
            "\n",
            "Student Database Menu:\n",
            "1. Add Student\n",
            "2. Remove Student\n",
            "3. Search Student\n",
            "4. Display All Students\n",
            "5. Exit\n",
            "Enter your choice: 3\n",
            "Enter student ID to search: it001\n",
            "Student not found.\n",
            "\n",
            "Student Database Menu:\n",
            "1. Add Student\n",
            "2. Remove Student\n",
            "3. Search Student\n",
            "4. Display All Students\n",
            "5. Exit\n",
            "Enter your choice: 1\n",
            "Enter student ID: it001\n",
            "Enter student name: jatin\n",
            "Enter student grade: A\n",
            "\n",
            "Student Database Menu:\n",
            "1. Add Student\n",
            "2. Remove Student\n",
            "3. Search Student\n",
            "4. Display All Students\n",
            "5. Exit\n",
            "Enter your choice: 4\n",
            "Student ID: it001, Name: jatin, Grade: A\n",
            "\n",
            "Student Database Menu:\n",
            "1. Add Student\n",
            "2. Remove Student\n",
            "3. Search Student\n",
            "4. Display All Students\n",
            "5. Exit\n",
            "Enter your choice: 5\n"
          ]
        }
      ],
      "source": [
        "class StudentDatabase:\n",
        "    def __init__(self):\n",
        "        self.students = {}\n",
        "\n",
        "    def add_student(self, student_id, name, grade):\n",
        "        self.students[student_id] = {'name': name, 'grade': grade}\n",
        "\n",
        "    def remove_student(self, student_id):\n",
        "        if student_id in self.students:\n",
        "            del self.students[student_id]\n",
        "\n",
        "    def search_student(self, student_id):\n",
        "        return self.students.get(student_id, None)\n",
        "\n",
        "    def display_students(self):\n",
        "        for student_id, info in self.students.items():\n",
        "            print(f\"Student ID: {student_id}, Name: {info['name']}, Grade: {info['grade']}\")\n",
        "\n",
        "def main():\n",
        "    database = StudentDatabase()\n",
        "\n",
        "    while True:\n",
        "        print(\"\\nStudent Database Menu:\")\n",
        "        print(\"1. Add Student\")\n",
        "        print(\"2. Remove Student\")\n",
        "        print(\"3. Search Student\")\n",
        "        print(\"4. Display All Students\")\n",
        "        print(\"5. Exit\")\n",
        "\n",
        "        choice = input(\"Enter your choice: \")\n",
        "\n",
        "        if choice == '1':\n",
        "            student_id = input(\"Enter student ID: \")\n",
        "            name = input(\"Enter student name: \")\n",
        "            grade = input(\"Enter student grade: \")\n",
        "            database.add_student(student_id, name, grade)\n",
        "        elif choice == '2':\n",
        "            student_id = input(\"Enter student ID to remove: \")\n",
        "            database.remove_student(student_id)\n",
        "        elif choice == '3':\n",
        "            student_id = input(\"Enter student ID to search: \")\n",
        "            student = database.search_student(student_id)\n",
        "            if student:\n",
        "                print(f\"Student ID: {student_id}, Name: {student['name']}, Grade: {student['grade']}\")\n",
        "            else:\n",
        "                print(\"Student not found.\")\n",
        "        elif choice == '4':\n",
        "            database.display_students()\n",
        "        elif choice == '5':\n",
        "            break\n",
        "        else:\n",
        "            print(\"Invalid choice. Please try again.\")\n",
        "\n",
        "if __name__ == \"__main__\":\n",
        "    main()\n"
      ]
    }
  ]
}